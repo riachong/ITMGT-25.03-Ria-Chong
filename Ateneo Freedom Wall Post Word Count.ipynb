{
 "cells": [
  {
   "cell_type": "markdown",
   "metadata": {},
   "source": [
    "post_text(text)    \n",
    " \n",
    "\n",
    "count_words(text):\n",
    "    return a dictionary with counts per word\n",
    "    \n",
    "    #inside, process new string containing original text passed as parameter to count words w/o punctuation \n",
    "    remove punctuation_characters (\".\",\"/\",\",\",\"!\",\"'\",\"\\\"\",\"#\",\"?\",\"(\",\")\")\n",
    "    \n",
    "dump_word count(text)\n",
    "print dump of words and corresponding counts \n",
    "use count_words \n",
    "\n",
    "defaultdict \n",
    "\n",
    "str.replace(old, new[, count])\n",
    "str.split(sep=None, maxsplit=-1)\n",
    "str.upper()\n",
    "\n",
    "initialize a dictionary\n",
    "new_dict = dict()\n",
    "new_dict = {}"
   ]
  },
  {
   "cell_type": "code",
   "execution_count": 77,
   "metadata": {},
   "outputs": [
    {
     "name": "stdout",
     "output_type": "stream",
     "text": [
      "{'SEEING': 1, 'THE': 2, 'GRADUATION': 1, 'POSTS': 1, 'OF': 1, 'MY': 1, 'FRIENDS': 1, 'FROM': 1, 'ATENEO': 2, 'MADE': 1, 'ME': 1, 'REALIZE': 1, 'THAT': 1, 'THERE': 2, 'ARE': 1, 'SO': 1, 'MANY': 1, 'MANAGEMENT': 5, 'COURSES': 2, 'IN': 2, 'EVEN': 1, 'ART': 1, 'AND': 2, 'ENGINEERING': 1, 'EXIST': 1, 'APPARENTLY': 1, 'I': 1, 'WONDER': 1, 'IF': 1, 'WILL': 1, 'BE': 1, 'MEDICAL': 1, 'SANITARY': 1, 'FUTURE': 1}\n"
     ]
    }
   ],
   "source": [
    "post_text = \"Seeing the graduation posts of my friends from Ateneo made me realize that there are so many management courses in Ateneo. Even Art Management and Management Engineering exist apparently. I wonder if there will be Medical Management and Sanitary Management courses in the future.\"\n",
    "punctuation_characters = [\".\",\"/\",\",\",\"!\",\"'\",\"\\\"\",\"#\",\"?\",\"(\",\")\"]\n",
    "    \n",
    "def count_words(post_text):\n",
    "    words = post_text.upper()\n",
    "    new_word = words.replace(\".\",\"\") #hi sir i cant figure this out huhu i tried str([list]) but it didnt work\n",
    "    new_word = new_word.split(sep=None, maxsplit=-1)\n",
    "    \n",
    "    counts = {} \n",
    "    \n",
    "    for word in new_word:\n",
    "        if word in counts:\n",
    "            counts[word] += 1\n",
    "        else:\n",
    "            counts[word] = 1\n",
    "\n",
    "    return counts\n",
    "\n",
    "print(count_words(post_text))"
   ]
  },
  {
   "cell_type": "code",
   "execution_count": 54,
   "metadata": {
    "scrolled": true
   },
   "outputs": [
    {
     "name": "stdout",
     "output_type": "stream",
     "text": [
      "SEEING : 1\n",
      "\n",
      "THE : 2\n",
      "\n",
      "GRADUATION : 1\n",
      "\n",
      "POSTS : 1\n",
      "\n",
      "OF : 1\n",
      "\n",
      "MY : 1\n",
      "\n",
      "FRIENDS : 1\n",
      "\n",
      "FROM : 1\n",
      "\n",
      "ATENEO : 2\n",
      "\n",
      "MADE : 1\n",
      "\n",
      "ME : 1\n",
      "\n",
      "REALIZE : 1\n",
      "\n",
      "THAT : 1\n",
      "\n",
      "THERE : 2\n",
      "\n",
      "ARE : 1\n",
      "\n",
      "SO : 1\n",
      "\n",
      "MANY : 1\n",
      "\n",
      "MANAGEMENT : 5\n",
      "\n",
      "COURSES : 2\n",
      "\n",
      "IN : 2\n",
      "\n",
      "EVEN : 1\n",
      "\n",
      "ART : 1\n",
      "\n",
      "AND : 2\n",
      "\n",
      "ENGINEERING : 1\n",
      "\n",
      "EXIST : 1\n",
      "\n",
      "APPARENTLY : 1\n",
      "\n",
      "I : 1\n",
      "\n",
      "WONDER : 1\n",
      "\n",
      "IF : 1\n",
      "\n",
      "WILL : 1\n",
      "\n",
      "BE : 1\n",
      "\n",
      "MEDICAL : 1\n",
      "\n",
      "SANITARY : 1\n",
      "\n",
      "FUTURE : 1\n",
      "\n"
     ]
    }
   ],
   "source": [
    "def dump_wordcount(post_text):\n",
    "    counts_dictionary = count_words(post_text)\n",
    "\n",
    "    for i in counts_dictionary:\n",
    "        print(i, \":\", counts_dictionary[i])\n",
    "        print()\n",
    "        \n",
    "dump_wordcount(post_text)"
   ]
  },
  {
   "cell_type": "code",
   "execution_count": null,
   "metadata": {},
   "outputs": [],
   "source": []
  }
 ],
 "metadata": {
  "kernelspec": {
   "display_name": "Python 3",
   "language": "python",
   "name": "python3"
  },
  "language_info": {
   "codemirror_mode": {
    "name": "ipython",
    "version": 3
   },
   "file_extension": ".py",
   "mimetype": "text/x-python",
   "name": "python",
   "nbconvert_exporter": "python",
   "pygments_lexer": "ipython3",
   "version": "3.7.6"
  }
 },
 "nbformat": 4,
 "nbformat_minor": 4
}
