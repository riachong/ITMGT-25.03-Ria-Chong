{
 "cells": [
  {
   "cell_type": "code",
   "execution_count": 1,
   "metadata": {},
   "outputs": [
    {
     "name": "stdout",
     "output_type": "stream",
     "text": [
      "18.84955592\n",
      "28.274267760154622\n"
     ]
    }
   ],
   "source": [
    "#Problem 1\n",
    "\n",
    "def circumference_to_area (circumference):\n",
    "    area = ((circumference / (2*3.1416))**2) *3.1416\n",
    "    return area \n",
    "\n",
    "circumference = float(input())\n",
    "area = circumference_to_area (circumference)\n",
    "print(area)"
   ]
  },
  {
   "cell_type": "code",
   "execution_count": 2,
   "metadata": {
    "scrolled": true
   },
   "outputs": [
    {
     "name": "stdout",
     "output_type": "stream",
     "text": [
      "World\n",
      "dlroW\n"
     ]
    }
   ],
   "source": [
    "#Problem 2\n",
    "\n",
    "word = str(input())[::-1]\n",
    "\n",
    "def reverseString(word):\n",
    "    if len(word) == 5:\n",
    "        return word\n",
    "\n",
    "text = reverseString(word)\n",
    "print(text)"
   ]
  },
  {
   "cell_type": "code",
   "execution_count": 1,
   "metadata": {},
   "outputs": [
    {
     "name": "stdout",
     "output_type": "stream",
     "text": [
      "5\n",
      "15\n"
     ]
    }
   ],
   "source": [
    "#Problem 3\n",
    "\n",
    "x = int(input())\n",
    "\n",
    "def backAddition(x):\n",
    "    sum = 0\n",
    "    while x>0:\n",
    "        sum += x\n",
    "        x -= 1\n",
    "    return sum \n",
    "\n",
    "print(backAddition(x))"
   ]
  },
  {
   "cell_type": "code",
   "execution_count": 6,
   "metadata": {},
   "outputs": [
    {
     "name": "stdout",
     "output_type": "stream",
     "text": [
      "25164150\n"
     ]
    }
   ],
   "source": [
    "#Problem 4\n",
    "\n",
    "sum_of_squares=0\n",
    "sum=0\n",
    "i=1\n",
    "    \n",
    "while i<=100:\n",
    "    sum_of_squares += i**2 \n",
    "    sum += i \n",
    "    i = i + 1 \n",
    "    \n",
    "square_of_sum = sum**2\n",
    "difference = square_of_sum-sum_of_squares \n",
    "print(difference)"
   ]
  },
  {
   "cell_type": "code",
   "execution_count": 5,
   "metadata": {},
   "outputs": [
    {
     "name": "stdout",
     "output_type": "stream",
     "text": [
      "105\n",
      "1\n",
      "0\n",
      "0\n",
      "1\n",
      "0\n"
     ]
    }
   ],
   "source": [
    "#Problem 5\n",
    " \n",
    "cents = int(input())\n",
    "\n",
    "def denomination(cents):\n",
    "    peso = cents // 100\n",
    "    print(peso)\n",
    "    twentyfive_cents = (cents-(100*peso))//25\n",
    "    print(twentyfive_cents)\n",
    "    ten_cents = (cents-(peso*100)-(twentyfive_cents*25))//10\n",
    "    print(ten_cents)\n",
    "    five_cents = (cents-(peso*100)-(twentyfive_cents*25)-(ten_cents*10))//5\n",
    "    print(five_cents)\n",
    "    one_cents = (cents-(peso*100)-(twentyfive_cents*25)-(ten_cents*10)-(five_cents*5))//1\n",
    "    print(one_cents)\n",
    "    \n",
    "change = denomination(cents)"
   ]
  }
 ],
 "metadata": {
  "kernelspec": {
   "display_name": "Python 3",
   "language": "python",
   "name": "python3"
  },
  "language_info": {
   "codemirror_mode": {
    "name": "ipython",
    "version": 3
   },
   "file_extension": ".py",
   "mimetype": "text/x-python",
   "name": "python",
   "nbconvert_exporter": "python",
   "pygments_lexer": "ipython3",
   "version": "3.7.6"
  }
 },
 "nbformat": 4,
 "nbformat_minor": 4
}
