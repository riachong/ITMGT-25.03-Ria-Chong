{
 "cells": [
  {
   "cell_type": "markdown",
   "metadata": {},
   "source": [
    "191142       \n",
    "Chong     \n",
    "2 BSME     "
   ]
  },
  {
   "cell_type": "code",
   "execution_count": 120,
   "metadata": {},
   "outputs": [
    {
     "data": {
      "text/plain": [
       "'followed by'"
      ]
     },
     "execution_count": 120,
     "metadata": {},
     "output_type": "execute_result"
    }
   ],
   "source": [
    "#1 Social Media Example\n",
    "\n",
    "def relationship_status(from_member, to_member):\n",
    "    firstperson = from_member\n",
    "    secondperson = to_member\n",
    "    firstperson_following = social_graph[from_member][\"following\"]\n",
    "    secondperson_following = social_graph[to_member][\"following\"]\n",
    "    if firstperson in secondperson_following and secondperson in firstperson_following:\n",
    "        return \"friends\"\n",
    "    elif firstperson in secondperson_following:\n",
    "        return \"followed by\"\n",
    "    elif secondperson in firstperson_following:\n",
    "        return \"follower\"\n",
    "    else:\n",
    "        return None\n",
    "\n",
    "social_graph = {\n",
    "    \"@bongolpoc\":{\"first_name\":\"Joselito\",\n",
    "                  \"last_name\":\"Olpoc\",\n",
    "                  \"following\":[\n",
    "                  ]\n",
    "    },\n",
    "    \"@joaquin\":  {\"first_name\":\"Joaquin\",\n",
    "                  \"last_name\":\"Gonzales\",\n",
    "                  \"following\":[\n",
    "                      \"@chums\",\"@jobenilagan\"\n",
    "                  ]\n",
    "    },\n",
    "    \"@chums\" : {\"first_name\":\"Matthew\",\n",
    "                \"last_name\":\"Uy\",\n",
    "                \"following\":[\n",
    "                    \"@bongolpoc\",\"@miketan\",\"@rudyang\",\"@joeilagan\"\n",
    "                ]\n",
    "    },\n",
    "    \"@jobenilagan\":{\"first_name\":\"Joben\",\n",
    "                   \"last_name\":\"Ilagan\",\n",
    "                   \"following\":[\n",
    "                    \"@eeebeee\",\"@joeilagan\",\"@chums\",\"@joaquin\"\n",
    "                   ]\n",
    "    },\n",
    "    \"@joeilagan\":{\"first_name\":\"Joe\",\n",
    "                  \"last_name\":\"Ilagan\",\n",
    "                  \"following\":[\n",
    "                    \"@eeebeee\",\"@jobenilagan\",\"@chums\"\n",
    "                  ]\n",
    "    },\n",
    "    \"@eeebeee\":  {\"first_name\":\"Elizabeth\",\n",
    "                  \"last_name\":\"Ilagan\",\n",
    "                  \"following\":[\n",
    "                    \"@jobenilagan\",\"@joeilagan\"\n",
    "                  ]\n",
    "    },\n",
    "}\n",
    "                                                \n",
    "relationship_status(\"@bongolpoc\",\"@chums\")"
   ]
  },
  {
   "cell_type": "code",
   "execution_count": 121,
   "metadata": {},
   "outputs": [
    {
     "data": {
      "text/plain": [
       "'O'"
      ]
     },
     "execution_count": 121,
     "metadata": {},
     "output_type": "execute_result"
    }
   ],
   "source": [
    "#3 Tic-Tac-Toe\n",
    "\n",
    "board1 = [\n",
    "['X','X','O'],\n",
    "['O','X','O'],\n",
    "['O','','X'],\n",
    "]\n",
    "\n",
    "board2 = [\n",
    "['X','X','O'],\n",
    "['O','X','O'],\n",
    "['','O','X'],\n",
    "]\n",
    "\n",
    "board3 = [\n",
    "['O','X','O'],\n",
    "['','O','X'],\n",
    "['X','X','O'],\n",
    "]\n",
    "\n",
    "board4 = [\n",
    "['X','X','X'],\n",
    "['O','X','O'],\n",
    "['O','','O'],\n",
    "]\n",
    "\n",
    "board5 = [\n",
    "['X','X','O'],\n",
    "['O','X','O'],\n",
    "['X','','O'],\n",
    "]\n",
    "\n",
    "board6 = [\n",
    "['X','X','O'],\n",
    "['O','X','O'],\n",
    "['X','',''],\n",
    "]\n",
    "\n",
    "def get_winner(board):\n",
    "    #check diagonals\n",
    "    if [board[i][i] for i,v in enumerate(board)] == ['X','X','X']:\n",
    "        return \"X\"\n",
    "    elif [board[i][i] for i,v in enumerate(board)] == ['O','O','O']:\n",
    "        return \"O\"        \n",
    "    elif [board[2-i][i] for i,v in enumerate(board)] == ['X','X','X']:\n",
    "        return \"X\"\n",
    "    elif [board[2-i][i] for i,v in enumerate(board)] == ['O','O','O']:\n",
    "        return \"O\"\n",
    "    \n",
    "    #check rows\n",
    "    elif ['X','X','X'] in board: \n",
    "        return \"X\"\n",
    "    elif ['O','O','O'] in board: \n",
    "        return \"O\"\n",
    "    \n",
    "    #check columns\n",
    "    elif ('X', 'X', 'X') in [i for i in zip(*board)]:\n",
    "        return \"X\"\n",
    "    elif ('O', 'O', 'O') in [i for i in zip(*board)]:\n",
    "        return \"O\"\n",
    "\n",
    "    else: \n",
    "        return None\n",
    "\n",
    "get_winner(board3)"
   ]
  },
  {
   "cell_type": "code",
   "execution_count": 122,
   "metadata": {},
   "outputs": [
    {
     "name": "stdout",
     "output_type": "stream",
     "text": [
      "Enter source: dlsu\n",
      "Enter destination: admu\n",
      "ETA: 65\n"
     ]
    }
   ],
   "source": [
    "#3 Shuttle Van Service\n",
    "\n",
    "source = str(input(\"Enter source: \"))\n",
    "destination = str(input(\"Enter destination: \"))\n",
    "\n",
    "legs = {\n",
    "     (\"upd\",\"admu\"):{\n",
    "         \"travel_time_mins\":10\n",
    "     },\n",
    "     (\"admu\",\"dlsu\"):{\n",
    "         \"travel_time_mins\":35\n",
    "     },\n",
    "     (\"dlsu\",\"upd\"):{\n",
    "         \"travel_time_mins\":55\n",
    "     }\n",
    "}\n",
    "\n",
    "def eta(source, destination):\n",
    "    #direct cases\n",
    "    if source == \"upd\" and destination == \"admu\":\n",
    "        return legs[(\"upd\",\"admu\")][\"travel_time_mins\"]\n",
    "    elif source == \"admu\" and destination == \"dlsu\":\n",
    "        return legs[(\"admu\",\"dlsu\")][\"travel_time_mins\"]\n",
    "    elif source == \"dlsu\" and destination == \"upd\":\n",
    "        return legs[(\"dlsu\",\"upd\")][\"travel_time_mins\"]\n",
    "    \n",
    "    #indirect cases\n",
    "    elif source == \"admu\" and destination == \"upd\":\n",
    "        return (legs[(\"admu\",\"dlsu\")][\"travel_time_mins\"]+legs[(\"dlsu\",\"upd\")][\"travel_time_mins\"])\n",
    "    elif source == \"upd\" and destination == \"dlsu\":\n",
    "        return (legs[(\"upd\",\"admu\")][\"travel_time_mins\"]+legs[(\"admu\",\"dlsu\")][\"travel_time_mins\"])\n",
    "    elif source == \"dlsu\" and destination == \"admu\":\n",
    "        return (legs[(\"dlsu\",\"upd\")][\"travel_time_mins\"]+legs[(\"upd\",\"admu\")][\"travel_time_mins\"])\n",
    "    \n",
    "    else:\n",
    "        pass\n",
    "\n",
    "print(\"ETA:\", eta(source,destination))"
   ]
  },
  {
   "cell_type": "code",
   "execution_count": null,
   "metadata": {},
   "outputs": [],
   "source": []
  }
 ],
 "metadata": {
  "kernelspec": {
   "display_name": "Python 3",
   "language": "python",
   "name": "python3"
  },
  "language_info": {
   "codemirror_mode": {
    "name": "ipython",
    "version": 3
   },
   "file_extension": ".py",
   "mimetype": "text/x-python",
   "name": "python",
   "nbconvert_exporter": "python",
   "pygments_lexer": "ipython3",
   "version": "3.7.6"
  }
 },
 "nbformat": 4,
 "nbformat_minor": 4
}
