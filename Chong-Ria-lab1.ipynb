{
 "cells": [
  {
   "cell_type": "markdown",
   "metadata": {},
   "source": [
    "191142   \n",
    "Chong    \n",
    "2 BS ME  "
   ]
  },
  {
   "cell_type": "code",
   "execution_count": 3,
   "metadata": {},
   "outputs": [],
   "source": [
    "#Problem 1\n",
    "\n",
    "def dollars_to_pesos(us_dollars):\n",
    "    ph_pesos = us_dollars * 50 \n",
    "    return ph_pesos"
   ]
  },
  {
   "cell_type": "code",
   "execution_count": 4,
   "metadata": {},
   "outputs": [
    {
     "name": "stdout",
     "output_type": "stream",
     "text": [
      "Enter the amount in US Dollars: 2\n",
      "2 US dollar(s) = 100 Philippine Pesos\n"
     ]
    }
   ],
   "source": [
    "us_dollars = int(input(\"Enter the amount in US Dollars: \"))\n",
    "\n",
    "ph_pesos = dollars_to_pesos(us_dollars)\n",
    "\n",
    "print(us_dollars,\"US dollar(s)\", \"=\", ph_pesos, \"Philippine Pesos\")"
   ]
  },
  {
   "cell_type": "code",
   "execution_count": 5,
   "metadata": {},
   "outputs": [
    {
     "name": "stdout",
     "output_type": "stream",
     "text": [
      "55\n",
      "3\n",
      "58\n",
      "52\n",
      "165\n",
      "18\n",
      "1\n"
     ]
    }
   ],
   "source": [
    "#Problem 2\n",
    "a = int(input())\n",
    "b = int(input())\n",
    "\n",
    "print(a + b)\n",
    "print(a - b)\n",
    "print(a * b)\n",
    "print(a // b)\n",
    "print(a % b)\n"
   ]
  },
  {
   "cell_type": "code",
   "execution_count": 6,
   "metadata": {},
   "outputs": [],
   "source": [
    "#Problem 3\n",
    "def compute_bmi(kg,cm):\n",
    "    bmi = kg / (m**2)\n",
    "    return bmi\n",
    "\n",
    "def convert_cm_to_m(cm):\n",
    "    m = cm/100\n",
    "    return m "
   ]
  },
  {
   "cell_type": "code",
   "execution_count": 7,
   "metadata": {},
   "outputs": [
    {
     "name": "stdout",
     "output_type": "stream",
     "text": [
      "Enter kg: 70\n",
      "Enter cm: 170\n",
      "BMI:  24.221453287197235\n"
     ]
    }
   ],
   "source": [
    "kg = float(input(\"Enter kg: \"))\n",
    "cm = float(input(\"Enter cm: \"))\n",
    "\n",
    "m = convert_cm_to_m(cm)\n",
    "bmi = compute_bmi(kg,cm)\n",
    "\n",
    "print(\"BMI: \", bmi)"
   ]
  },
  {
   "cell_type": "code",
   "execution_count": null,
   "metadata": {},
   "outputs": [],
   "source": []
  }
 ],
 "metadata": {
  "kernelspec": {
   "display_name": "Python 3",
   "language": "python",
   "name": "python3"
  },
  "language_info": {
   "codemirror_mode": {
    "name": "ipython",
    "version": 3
   },
   "file_extension": ".py",
   "mimetype": "text/x-python",
   "name": "python",
   "nbconvert_exporter": "python",
   "pygments_lexer": "ipython3",
   "version": "3.7.6"
  }
 },
 "nbformat": 4,
 "nbformat_minor": 4
}
